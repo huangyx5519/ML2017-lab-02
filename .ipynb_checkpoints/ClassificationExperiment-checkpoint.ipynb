{
 "cells": [
  {
   "cell_type": "code",
   "execution_count": 37,
   "metadata": {},
   "outputs": [
    {
     "name": "stdout",
     "output_type": "stream",
     "text": [
      "0.4457938050000004\n"
     ]
    },
    {
     "data": {
      "image/png": "[encoded data removed]",
      "text/plain": [
       "<matplotlib.figure.Figure at 0x10ae5ef28>"
      ]
     },
     "metadata": {},
     "output_type": "display_data"
    }
   ],
   "source": [
    "# write your code here\n",
    "from sklearn.datasets import load_svmlight_file\n",
    "from numpy import *\n",
    "%matplotlib inline\n",
    "import matplotlib.pyplot as plt\n",
    "import numpy as np\n",
    "\n",
    "#定义cost函数c()\n",
    "def c(x,y,w):\n",
    "    if(y*(w*x.T)<1):\n",
    "        return -y\n",
    "    return 0\n",
    "\n",
    "def shuffle_data_index(data_size):\n",
    "    arr_index = []\n",
    "    for i in range(data_size):\n",
    "        arr_index.append(i)\n",
    "    random.shuffle (arr_index)\n",
    "    return arr_index\n",
    "\n",
    "\n",
    "def testLoss(w, X_test, y_test):\n",
    "    total_cost=0\n",
    "    shuffled_arr = shuffle_data_index(y_test.size)\n",
    "    for m in range(1000):\n",
    "        index = shuffled_arr[m]\n",
    "        cost = float(max(0,1-y_train[index]*(w*X_train[index].T)))\n",
    "        total_cost += cost\n",
    "\n",
    "    j = total_cost/(m+1)\n",
    "    return j\n",
    "\n",
    "def data_process():\n",
    "    t_X,t_y=load_svmlight_file(\"./a9a.txt\")\n",
    "    t_X=t_X.todense()  \n",
    "    t_X_row_num,t_X_column_num=shape(t_X)\n",
    "\n",
    "    #在X矩阵中添加一列“1”\n",
    "    ones_column = ones((t_X_row_num,1))\n",
    "    t_X=hstack((ones_column,t_X))\n",
    "    t_X_column_num = t_X[0].size\n",
    "\n",
    "\n",
    "    #将数据集切分为训练集和验证集\n",
    "    from sklearn.model_selection import train_test_split\n",
    "    X_train, X_test, y_train, y_test = train_test_split( t_X, t_y, test_size=0.33, random_state=31)\n",
    "    return X_train, X_test, y_train, y_test\n",
    "\n",
    "\n",
    "def Classification_gradAscent(X_train, X_test, y_train, y_test,eta,maxCycles):\n",
    "    t_X_column_num=X_train[0].size\n",
    "\n",
    "    #w全零初始化\n",
    "    w = zeros((1,t_X_column_num))\n",
    "    w_temple=zeros((1,t_X_column_num))\n",
    "\n",
    "    eta = 0.000605\n",
    "#     maxCycles=600\n",
    "    train_size = y_train.size\n",
    "    test_size=y_test.size\n",
    "    p_test_loss=[]\n",
    "\n",
    "    #用于图显示\n",
    "    p_x = []\n",
    "    p_train_loss = []\n",
    "    p_validation_loss = []\n",
    "\n",
    "\n",
    "    shuffled_arr = shuffle_data_index(train_size)\n",
    "    for m in range(maxCycles):\n",
    "        index = shuffled_arr[m]\n",
    "        w=w-(eta*(c(X_train[index],y_train[index],w_temple))*X_train[index])\n",
    "\n",
    "        p_x.append(m+1)\n",
    "        test_loss=testLoss(w, X_test, y_test)\n",
    "        p_test_loss.append(test_loss)\n",
    "\n",
    "    plt.plot(p_x, p_test_loss,label=\"train loss\") \n",
    "    print(p_test_loss[499])\n",
    "    # print(p_test_loss)\n",
    "\n",
    "def main():\n",
    "    X_train, X_test, y_train, y_test=data_process()\n",
    "    eta = 0.00047\n",
    "    maxCycles = 500\n",
    "    Classification_gradAscent(X_train, X_test, y_train, y_test,eta,maxCycles)\n",
    "\n",
    "\n",
    "main()\n",
    "\n",
    "\n",
    "\n",
    "\n"
   ]
  },
  {
   "cell_type": "code",
   "execution_count": null,
   "metadata": {
    "collapsed": true
   },
   "outputs": [],
   "source": []
  }
 ],
 "metadata": {
  "kernelspec": {
   "display_name": "Python 3",
   "language": "python",
   "name": "python3"
  },
  "language_info": {
   "codemirror_mode": {
    "name": "ipython",
    "version": 3
   },
   "file_extension": ".py",
   "mimetype": "text/x-python",
   "name": "python",
   "nbconvert_exporter": "python",
   "pygments_lexer": "ipython3",
   "version": "3.6.3"
  }
 },
 "nbformat": 4,
 "nbformat_minor": 2
}
