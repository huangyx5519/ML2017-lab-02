{
 "cells": [
  {
   "cell_type": "code",
   "execution_count": 2,
   "metadata": {},
   "outputs": [
    {
     "name": "stdout",
     "output_type": "stream",
     "text": [
      "0.356189943567\n"
     ]
    },
    {
     "data": {
      "image/png": "[encoded data removed]",
      "text/plain": [
       "<matplotlib.figure.Figure at 0x1a14e66ac8>"
      ]
     },
     "metadata": {},
     "output_type": "display_data"
    }
   ],
   "source": [
    "# write your code here\n",
    "from sklearn.datasets import load_svmlight_file\n",
    "from numpy import *\n",
    "%matplotlib inline\n",
    "import matplotlib.pyplot as plt\n",
    "import numpy as np\n",
    "import random\n",
    "\n",
    "\n",
    "def sigmoid(inX):\n",
    "    return 1.0/(1+exp(-inX))\n",
    "\n",
    "#只对数组索引进行随机排序\n",
    "def shuffle_data_index(data_size):\n",
    "    arr_index = []\n",
    "    for i in range(data_size):\n",
    "        arr_index.append(i)\n",
    "    random.shuffle (arr_index)\n",
    "    return arr_index\n",
    "\n",
    "def cost(y,h):\n",
    "#     print(\"-(\",y,\"*\",\"log(\",h,\")+(1-\",y,\")*log(1-\",h,\")\",\"=\",-(y*log(h)+(1-y)*log(1-h)))\n",
    "#     print(log(1-h))\n",
    "    return -(y*log(h)+(1-y)*log(1-h))\n",
    "\n",
    "def testLogRegres(w, X_test, y_test):\n",
    "    total_cost=0\n",
    "    shuffled_arr = shuffle_data_index(y_test.size)\n",
    "    for m in range(1000): \n",
    "        index = shuffled_arr[m]\n",
    "        if(y_test[index]==-1):\n",
    "            ytr=0\n",
    "        else:\n",
    "            ytr=1\n",
    "        h = float(sigmoid(w*X_test[index].T))   \n",
    "        total_cost += cost(ytr,h)\n",
    "        \n",
    "    j = total_cost/(m+1)\n",
    "    return j\n",
    "\n",
    "\n",
    "\n",
    "\n",
    "t_X,t_y=load_svmlight_file(\"./a9a.txt\")\n",
    "t_X=t_X.todense()  \n",
    "t_X_row_num,t_X_column_num=shape(t_X)\n",
    "\n",
    "#在X矩阵中添加一列“1”\n",
    "ones_column = ones((t_X_row_num,1)) \n",
    "t_X=hstack((ones_column,t_X))\n",
    "t_X_column_num = t_X[0].size\n",
    "\n",
    "\n",
    "#将数据集切分为训练集和验证集\n",
    "from sklearn.model_selection import train_test_split\n",
    "X_train, X_test, y_train, y_test = train_test_split( t_X, t_y, test_size=0.33, random_state=43)\n",
    "\n",
    "alpha = 0.04\n",
    "\n",
    "maxCycles = 600\n",
    "\n",
    "w = zeros((1,t_X_column_num))\n",
    "\n",
    "total_cost = 0\n",
    "p_x=[]\n",
    "p_train_loss=[]\n",
    "p_test_loss=[]\n",
    "p_train_loss2=[]\n",
    "train_size = y_train.size\n",
    "test_size=y_test.size\n",
    "missCount=0\n",
    "\n",
    "    \n",
    "#一次迭代\n",
    "shuffled_arr = shuffle_data_index(train_size)\n",
    "for m in range(maxCycles): \n",
    "    index = shuffled_arr[m]\n",
    "    if(y_train[index]==-1):\n",
    "        ytr=0\n",
    "    else:\n",
    "        ytr=1\n",
    "    h = float(sigmoid(w*X_train[index].T))   \n",
    "    error = (h - ytr)          \n",
    "    w = w - alpha * X_train[index]* error\n",
    "#     total_cost += cost(ytr,h)\n",
    "#     j = total_cost/(m+1)\n",
    "    \n",
    "    p_x.append(m+1)\n",
    "#     p_train_loss.append(j)\n",
    "    \n",
    "    test_loss=testLogRegres(w, X_test, y_test)\n",
    "    p_test_loss.append(test_loss)\n",
    "    \n",
    "    \n",
    "# plt.plot(p_x, p_train_loss,label=\"train loss\")\n",
    "# print(p_train_loss[599])\n",
    "plt.plot(p_x, p_test_loss,label=\"train loss\")\n",
    "print(p_test_loss[499])\n",
    "\n",
    "\n",
    "\n",
    "\n",
    "\n"
   ]
  },
  {
   "cell_type": "code",
   "execution_count": null,
   "metadata": {
    "collapsed": true
   },
   "outputs": [],
   "source": []
  },
  {
   "cell_type": "code",
   "execution_count": null,
   "metadata": {
    "collapsed": true
   },
   "outputs": [],
   "source": []
  }
 ],
 "metadata": {
  "kernelspec": {
   "display_name": "Python 3",
   "language": "python",
   "name": "python3"
  },
  "language_info": {
   "codemirror_mode": {
    "name": "ipython",
    "version": 3
   },
   "file_extension": ".py",
   "mimetype": "text/x-python",
   "name": "python",
   "nbconvert_exporter": "python",
   "pygments_lexer": "ipython3",
   "version": "3.6.3"
  }
 },
 "nbformat": 4,
 "nbformat_minor": 2
}
